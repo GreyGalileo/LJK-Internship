{
 "cells": [
  {
   "cell_type": "code",
   "execution_count": 36,
   "id": "057ee80f",
   "metadata": {},
   "outputs": [
    {
     "data": {
      "text/plain": [
       "val approximate_erf : float -> int -> float = <fun>\n"
      ]
     },
     "execution_count": 36,
     "metadata": {},
     "output_type": "execute_result"
    },
    {
     "data": {
      "text/plain": [
       "val get_aN : float -> int -> int = <fun>\n"
      ]
     },
     "execution_count": 36,
     "metadata": {},
     "output_type": "execute_result"
    }
   ],
   "source": [
    "let approximate_erf (x:float) (precision:int) =\n",
    "  (* Aprroximates the error function at x erf(x) to 10^(-k) decimal places *)\n",
    "  let xsquared = x *. x in\n",
    "  \n",
    "  let a0x = 2. *. x /. Float.sqrt (Float.pi) *. Float.exp (-.xsquared) in\n",
    "  \n",
    "  let significance = Float.pow 10. (-1. *. (float_of_int precision)) in\n",
    "  \n",
    "  (* The expressions of x^2, the first term of a sequence of all positive function that sums to erf\n",
    "  where a0(x) = 2x/sqrt(pi)*e^-(x^2) and for all other terms an(x) = an-1(x) * 2x^2/(2n+1),\n",
    "  and the significance of 10^(-k) *)\n",
    "  let rec sum_over_anx (n:int) (an_minus1:float) (sum_to_an:float)= \n",
    "   match n with\n",
    "   |0 -> sum_over_anx 1 a0x a0x\n",
    "   \n",
    "   |num when num>0 ->\n",
    "     let anx = an_minus1 *. 2. *. xsquared /. (2. *. (float_of_int n) +. 1.) in\n",
    "     let nf = (float_of_int n) in\n",
    "     if (xsquared < nf) && (anx *. xsquared /. (nf -. xsquared) < significance)\n",
    "     \n",
    "     (* We can prove that when n>x, an(x) * x^2/(n-x^2) is greater than the sum of all following an terms, \n",
    "     therefore if this term is smaller than the precision we want, all following terms are negligible \n",
    "     and we can return the current result *)\n",
    "     \n",
    "       then sum_to_an +. anx\n",
    "     else\n",
    "       sum_over_anx (n+1) anx (sum_to_an +. anx)\n",
    "\n",
    "   |_ -> failwith \"Cannot have terms with negative n; n should go from 0 to positive infinity.\"\n",
    "   in\n",
    "   \n",
    "   sum_over_anx 1 a0x a0x;;\n",
    "   \n",
    "   \n",
    "   \n",
    "   \n",
    "let get_aN (x:float) (precision:int) =\n",
    "  (* Aprroximates the error function at x erf(x) to 10^(-k) decimal places *)\n",
    "  let xsquared = x *. x in\n",
    "  \n",
    "  let a0x = 2. *. x /. Float.sqrt (Float.pi) *. Float.exp (-.xsquared) in\n",
    "  \n",
    "  let significance = Float.pow 10. (-1. *. (float_of_int precision)) in\n",
    "  \n",
    "  (* The expressions of x^2, the first term of a sequence of all positive function that sums to erf\n",
    "  where a0(x) = 2x/sqrt(pi)*e^-(x^2) and for all other terms an(x) = an-1(x) * 2x^2/(2n+1),\n",
    "  and the significance of 10^(-k) *)\n",
    "  let rec iterate_anx (n:int) (an_minus1:float)= \n",
    "   match n with\n",
    "   |0 -> iterate_anx 1 a0x\n",
    "   \n",
    "   |num when num>0 ->\n",
    "     let anx = an_minus1 *. 2. *. xsquared /. (2. *. (float_of_int n) +. 1.) in\n",
    "     let nf = (float_of_int n) in\n",
    "     if (xsquared < nf) && (anx *. xsquared /. (nf -. xsquared) < significance)\n",
    "     \n",
    "     (* We can prove that when n>x, an(x) * x^2/(n-x^2) is greater than the sum of all following an terms, \n",
    "     therefore if this term is smaller than the precision we want, all following terms are negligible \n",
    "     and we can return the current result *)\n",
    "     \n",
    "       then n\n",
    "     else\n",
    "       iterate_anx (n+1) anx\n",
    "\n",
    "   |_ -> failwith \"Cannot have terms with negative n; n should go from 0 to positive infinity.\"\n",
    "   in\n",
    "   \n",
    "   iterate_anx 1 a0x;;\n",
    "   "
   ]
  },
  {
   "cell_type": "code",
   "execution_count": 6,
   "id": "809f9aa6",
   "metadata": {},
   "outputs": [
    {
     "data": {
      "text/plain": [
       "- : float = 0.842700792949714783\n"
      ]
     },
     "execution_count": 6,
     "metadata": {},
     "output_type": "execute_result"
    }
   ],
   "source": [
    "approximate_erf 1. 17;;"
   ]
  },
  {
   "cell_type": "code",
   "execution_count": 46,
   "id": "ca28b9a6",
   "metadata": {},
   "outputs": [
    {
     "data": {
      "text/plain": [
       "val num_values : int = 80\n"
      ]
     },
     "execution_count": 46,
     "metadata": {},
     "output_type": "execute_result"
    },
    {
     "data": {
      "text/plain": [
       "val test_values : float list =\n",
       "  [0.; 0.025; 0.05; 0.075; 0.1; 0.125; 0.15; 0.175; 0.2; 0.225; 0.25; 0.275;\n",
       "   0.3; 0.325; 0.35; 0.375; 0.4; 0.425; 0.45; 0.475; 0.5; 0.525; 0.55; 0.575;\n",
       "   0.6; 0.625; 0.65; 0.675; 0.7; 0.725; 0.75; 0.775; 0.8; 0.825; 0.85; 0.875;\n",
       "   0.9; 0.925; 0.95; 0.975; 1.; 1.025; 1.05; 1.075; 1.1; 1.125; 1.15; 1.175;\n",
       "   1.2; 1.225; 1.25; 1.275; 1.3; 1.325; 1.35; 1.375; 1.4; 1.425; 1.45; 1.475;\n",
       "   1.5; 1.525; 1.55; 1.575; 1.6; 1.625; 1.65; 1.675; 1.7; 1.725; 1.75; 1.775;\n",
       "   1.8; 1.825; 1.85; 1.875; 1.9; 1.925; 1.95; 1.975]\n"
      ]
     },
     "execution_count": 46,
     "metadata": {},
     "output_type": "execute_result"
    },
    {
     "data": {
      "text/plain": [
       "- : float list =\n",
       "[0.; 0.000625000000000000121; 0.00250000000000000049; 0.005625;\n",
       " 0.0100000000000000019; 0.015625; 0.0225; 0.030624999999999996;\n",
       " 0.0400000000000000078; 0.050625; 0.0625; 0.0756250000000000117; 0.09;\n",
       " 0.105625000000000011; 0.122499999999999984; 0.140625; 0.160000000000000031;\n",
       " 0.18062499999999998; 0.2025; 0.225625; 0.25; 0.275625; 0.302500000000000047;\n",
       " 0.330624999999999947; 0.36; 0.390625; 0.422500000000000042;\n",
       " 0.455625000000000058; 0.489999999999999936; 0.525625; 0.5625;\n",
       " 0.600625000000000075; 0.640000000000000124; 0.680624999999999925;\n",
       " 0.72249999999999992; 0.765625; 0.81; 0.85562500000000008; 0.9025;\n",
       " 0.950624999999999942; 1.; 1.050625; 1.1025; 1.155625; 1.21000000000000019;\n",
       " 1.265625; 1.32249999999999979; 1.38062500000000021; 1.44;\n",
       " 1.50062500000000032; 1.5625; 1.62562499999999988; 1.69000000000000017;\n",
       " 1.755625; 1.82250000000000023; 1.890625; 1.95999999999999974; 2.030625;\n",
       " 2.1025; 2.175625; 2.25; 2.32562499999999961; 2.4025000000000003; 2.480625;\n",
       " 2.5600000000000005; 2.640625; 2.7224999999999997; 2.805625;\n",
       " 2.88999999999999968; 2.97562500000000041; 3.0625; 3.150625; 3.24; 3.330625;\n",
       " 3.42250000000000032; 3.515625; 3.61; 3.70562500000000039;\n",
       " 3.80249999999999977; 3.90062500000000023]\n"
      ]
     },
     "execution_count": 46,
     "metadata": {},
     "output_type": "execute_result"
    },
    {
     "data": {
      "text/plain": [
       "- : int list =\n",
       "[1; 2; 3; 3; 3; 4; 4; 4; 4; 5; 5; 5; 6; 6; 6; 6; 6; 7; 7; 7; 7; 8; 8; 8; 8;\n",
       " 8; 9; 9; 9; 9; 10; 10; 10; 10; 11; 11; 11; 11; 11; 12; 12; 12; 12; 13; 13;\n",
       " 13; 13; 14; 14; 14; 14; 14; 15; 15; 15; 15; 16; 16; 16; 16; 17; 17; 17; 17;\n",
       " 18; 18; 18; 18; 19; 19; 19; 19; 20; 20; 20; 20; 21; 21; 21; 21]\n"
      ]
     },
     "execution_count": 46,
     "metadata": {},
     "output_type": "execute_result"
    }
   ],
   "source": [
    "let num_values = 80\n",
    "let test_values = List.init num_values (fun x -> (float_of_int x) *. 2. /. (float_of_int num_values));;\n",
    "List.map (fun x -> x *. x) test_values;;\n",
    "List.map (fun x -> get_aN x 10) test_values;;\n"
   ]
  },
  {
   "cell_type": "code",
   "execution_count": null,
   "id": "704fe7c3",
   "metadata": {},
   "outputs": [],
   "source": []
  }
 ],
 "metadata": {
  "kernelspec": {
   "display_name": "OCaml default",
   "language": "OCaml",
   "name": "ocaml-jupyter"
  },
  "language_info": {
   "codemirror_mode": "text/x-ocaml",
   "file_extension": ".ml",
   "mimetype": "text/x-ocaml",
   "name": "OCaml",
   "nbconverter_exporter": null,
   "pygments_lexer": "OCaml",
   "version": "4.13.1"
  }
 },
 "nbformat": 4,
 "nbformat_minor": 5
}
