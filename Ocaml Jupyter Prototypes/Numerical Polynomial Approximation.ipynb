{
 "cells": [
  {
   "cell_type": "code",
   "execution_count": 12,
   "id": "64b32772",
   "metadata": {},
   "outputs": [
    {
     "data": {
      "text/plain": [
       "type polynomial = float list\n"
      ]
     },
     "execution_count": 12,
     "metadata": {},
     "output_type": "execute_result"
    },
    {
     "data": {
      "text/plain": [
       "val sin_taylor : float list =\n",
       "  [0.; 1.; 0.; -0.166666666666666657; 0.; 0.00833333333333333322; 0.;\n",
       "   -0.000198412698412698413]\n"
      ]
     },
     "execution_count": 12,
     "metadata": {},
     "output_type": "execute_result"
    },
    {
     "data": {
      "text/plain": [
       "val factorial : float -> float = <fun>\n"
      ]
     },
     "execution_count": 12,
     "metadata": {},
     "output_type": "execute_result"
    },
    {
     "data": {
      "text/plain": [
       "val exercice_a_poly : int -> polynomial = <fun>\n"
      ]
     },
     "execution_count": 12,
     "metadata": {},
     "output_type": "execute_result"
    },
    {
     "data": {
      "text/plain": [
       "val method1 : polynomial -> float -> float = <fun>\n"
      ]
     },
     "execution_count": 12,
     "metadata": {},
     "output_type": "execute_result"
    },
    {
     "data": {
      "text/plain": [
       "val method1_fma : polynomial -> float -> float = <fun>\n"
      ]
     },
     "execution_count": 12,
     "metadata": {},
     "output_type": "execute_result"
    },
    {
     "data": {
      "text/plain": [
       "val horner_method : polynomial -> float -> float = <fun>\n"
      ]
     },
     "execution_count": 12,
     "metadata": {},
     "output_type": "execute_result"
    },
    {
     "data": {
      "text/plain": [
       "val horner_method_fma : polynomial -> float -> float = <fun>\n"
      ]
     },
     "execution_count": 12,
     "metadata": {},
     "output_type": "execute_result"
    },
    {
     "data": {
      "text/plain": [
       "val expx : polynomial =\n",
       "  [1.; 1.; 0.5; 0.166666666666666657; 0.0416666666666666644;\n",
       "   0.00833333333333333322; 0.00138888888888888894; 0.000198412698412698413;\n",
       "   2.48015873015873e-05; 2.75573192239858925e-06; 2.75573192239858883e-07;\n",
       "   2.50521083854417202e-08; 2.08767569878681e-09; 1.60590438368216133e-10;\n",
       "   1.14707455977297245e-11; 7.64716373181981641e-13; 4.77947733238738525e-14;\n",
       "   2.8114572543455206e-15; 1.56192069685862253e-16; 8.22063524662433e-18;\n",
       "   4.11031762331216484e-19; 1.95729410633912626e-20; 8.89679139245057408e-22;\n",
       "   3.86817017063068354e-23; 1.61173757109611839e-24; 6.44695028438447359e-26;\n",
       "   2.47959626322479723e-27; 9.18368986379554601e-29; 3.27988923706983846e-30;\n",
       "   1.13099628864477181e-31; 3.76998762881590607e-33; 1.21612504155351811e-34;\n",
       "   3.80039075485474409e-36; 1.15163356207719509e-37; 3.3871575355211618e-39;\n",
       "   9.67759295863189e-41; 2.68822026628663665e-42; 7.26546017915307235e-44;\n",
       "   1.91196320504028226e-45; 4.90246975651354352e-47; 1.225617439128386e-48;\n",
       "   2.98931082714240509e-50; 7.11740673129144e-52; 1.65521086774219515e-53;\n",
       "   3.76184288123226229e-55; 8.35965084718280449e-57; 1.81731540156147934e-58;\n",
       "   3.86662851396059404e-60; 8.05547607075123817e-62; 1.64397470831657907e-63;\n",
       "   3.28794941663315844e-65; 6.44695964045717371e-67; 1.23979993085714862e-68;\n",
       "   2.33924515256065764e-70; 4.33193546770492182e-72; 7.87624630491803921e-74;\n",
       "   1.40647255444964979e-75; 2.46749570956078893e-77; 4.25430294751860162e-79;\n",
       "   7.21068296189593462e-81; 1.20178049364932246e-82; 1.97013195680216823e-84;\n",
       "   3.17763218839059385e-86; 5.04386061649300675e-88; 7.88103221327032304e-90;\n",
       "   1.21246649434928025e-91; 1.83707044598375813e-93; 2.74189618803546e-95;\n",
       "   4.03220027652273532e-97; 5.84376851669961691e-99; 8.34824073814231e-101;\n",
       "   1.17580855466793098e-102; 1.6330674370387932e-104;\n",
       "   2.23707868087505914e-106; 3.02307929847980976e-108; 4.03077239797308e-110;\n",
       "   5.30364789206984199e-112; 6.88785440528550778e-114;\n",
       "   8.83058257087885769e-116; 1.1177952621365643e-117;\n",
       "   1.39724407767070542e-119; 1.72499268848235254e-121;\n",
       "   2.10364962010042967e-123; 2.53451761457883107e-125;\n",
       "   3.01728287449860854e-127; 3.54974455823365668e-129;\n",
       "   4.12760995143448467e-131; 4.74437925452239615e-133;\n",
       "   5.39134006195726902e-135; 6.05768546287333631e-137;\n",
       "   6.73076162541481792e-139; 7.39644134660969e-141; 8.03961015935835938e-143;\n",
       "   8.64474210683694629e-145; 9.19653415620951681e-147;\n",
       "   9.6805622696942282e-149; 1.00839190309314877e-150;\n",
       "   1.03957928153932871e-152; 1.06079518524421284e-154;\n",
       "   1.07151028812546763e-156; 1.07151028812546754e-158;\n",
       "   1.06090127537175016e-160; 1.04009928958014711e-162;\n",
       "   1.00980513551470584e-164; 9.70966476456448e-167; 9.24729977577569506e-169;\n",
       "   8.72386771299593828e-171; 8.15314739532330747e-173;\n",
       "   7.54921055122528349e-175; 6.92588123965622451e-177; 6.29625567241475e-179;\n",
       "   5.67230240758085511e-181; 5.06455572105433564e-183; 4.4819077177472e-185;\n",
       "   3.93149799802385873e-187; 3.41869391132509468e-189;\n",
       "   2.94714992355611626e-191; 2.51893155859497063e-193;\n",
       "   2.13468776152116184e-195; 1.79385526178248874e-197;\n",
       "   1.49487938481874068e-199; 1.23543750811466177e-201;\n",
       "   1.01265369517595215e-203; 8.23295687134920436e-206;\n",
       "   6.63948134786226138e-208; 5.31158507828980914e-210;\n",
       "   4.21554371292842037e-212; 3.3193257582113547e-214;\n",
       "   2.59322324860262086e-216; 2.01025058031210893e-218;\n",
       "   1.54634660024008372e-220; 1.18041725209166708e-222;\n",
       "   8.94255494008838624e-225; 6.72372551886344865e-227;\n",
       "   5.01770561109212618e-229; 3.71681897117935264e-231;\n",
       "   2.73295512586717103e-233; 1.99485775610742422e-235;\n",
       "   1.44554909862856815e-237; 1.03996338030832248e-239; 7.42830985934516e-242;\n",
       "   5.26830486478380164e-244; 3.71007384843929726e-246;\n",
       "   2.59445723667083746e-248; 1.80170641435474834e-250;\n",
       "   1.24255614783086089e-252; 8.51065854678672e-255; 5.78956363726987767e-257;\n",
       "   3.91186732247964676e-259; 2.62541431038902484e-261;\n",
       "   1.75027620692601653e-263; 1.15912331584504399e-265;\n",
       "   7.62581128845423547e-268; 4.98419038461061214e-270;\n",
       "   3.23648726273416382e-272; 2.08805629853817e-274; 1.33849762726805755e-276;\n",
       "   8.5254625940640609e-279; 5.39586240130636767e-281;\n",
       "   3.39362415176501099e-283]\n"
      ]
     },
     "execution_count": 12,
     "metadata": {},
     "output_type": "execute_result"
    },
    {
     "data": {
      "text/plain": [
       "val x : float = 40.\n"
      ]
     },
     "execution_count": 12,
     "metadata": {},
     "output_type": "execute_result"
    },
    {
     "data": {
      "text/plain": [
       "- : float = 235385266837019904.\n"
      ]
     },
     "execution_count": 12,
     "metadata": {},
     "output_type": "execute_result"
    },
    {
     "data": {
      "text/plain": [
       "- : float = 235385266837019936.\n"
      ]
     },
     "execution_count": 12,
     "metadata": {},
     "output_type": "execute_result"
    },
    {
     "data": {
      "text/plain": [
       "- : float = 235385266837020032.\n"
      ]
     },
     "execution_count": 12,
     "metadata": {},
     "output_type": "execute_result"
    },
    {
     "data": {
      "text/plain": [
       "- : float = 235385266837020032.\n"
      ]
     },
     "execution_count": 12,
     "metadata": {},
     "output_type": "execute_result"
    },
    {
     "data": {
      "text/plain": [
       "- : float = 2.3538526683702e+17\n"
      ]
     },
     "execution_count": 12,
     "metadata": {},
     "output_type": "execute_result"
    }
   ],
   "source": [
    "type polynomial = float list;;\n",
    "(* where the nth term is the coefficient for the monomial of x^(n)*)\n",
    "\n",
    "(* Taylor Polynomial of sin(x) approximated around 0 *)\n",
    "let sin_taylor = [0.;1.;0.;-1./.6.;0.;1./.120.;0.;-1./.5040.];;\n",
    "\n",
    "(* Generates the taylor polynomial of exp(x) arountt x=0 *)\n",
    "let rec factorial n = if n < 2. then 1. else n *. factorial ( n -. 1. );;\n",
    "let rec exercice_a_poly (n:int) : polynomial = List.init n (fun x -> 1. /. (x |> float_of_int |> factorial )) ;;\n",
    "\n",
    "\n",
    "\n",
    "let rec method1 (p:polynomial) (x:float) :float = \n",
    "  let rec aux_method  (xn:float) (p:polynomial) (x:float) = \n",
    "    match p with\n",
    "    |[] -> 0.\n",
    "    |a::ls -> a*.xn +. aux_method (xn*.x) ls x\n",
    "  in\n",
    "  aux_method 1. p x;;\n",
    "\n",
    "let rec method1_fma (p:polynomial) (x:float) :float = \n",
    "  let rec aux_method  (xn:float) (p:polynomial) (x:float) = \n",
    "    match p with\n",
    "    |[] -> 0.\n",
    "    |a::ls -> Float.fma a xn (aux_method (xn*.x) ls x)\n",
    "  in\n",
    "  aux_method 1. p x;;\n",
    "\n",
    "\n",
    "\n",
    "\n",
    "(* Horner Method *)\n",
    "let rec horner_method (p:polynomial) (x:float):float = \n",
    "  match p with\n",
    "  |[] -> 0.\n",
    "  |a::ls -> a +. x *. horner_method ls x\n",
    "  ;;\n",
    "\n",
    "let rec horner_method_fma (p:polynomial) (x:float):float = \n",
    "  match p with\n",
    "  |[] -> 0.\n",
    "  |a::ls -> Float.fma x (horner_method ls x) a\n",
    "  ;;\n",
    "\n",
    "\n",
    "let expx = exercice_a_poly 160;;\n",
    "let x = 40.;;\n",
    "method1 expx x;;\n",
    "method1_fma expx x;;\n",
    "horner_method expx x;;\n",
    "horner_method_fma expx x;; \n",
    "Float.exp x;;"
   ]
  },
  {
   "cell_type": "code",
   "execution_count": null,
   "id": "f3646d35",
   "metadata": {},
   "outputs": [],
   "source": []
  }
 ],
 "metadata": {
  "kernelspec": {
   "display_name": "OCaml default",
   "language": "OCaml",
   "name": "ocaml-jupyter"
  },
  "language_info": {
   "codemirror_mode": "text/x-ocaml",
   "file_extension": ".ml",
   "mimetype": "text/x-ocaml",
   "name": "OCaml",
   "nbconverter_exporter": null,
   "pygments_lexer": "OCaml",
   "version": "4.13.1"
  }
 },
 "nbformat": 4,
 "nbformat_minor": 5
}
