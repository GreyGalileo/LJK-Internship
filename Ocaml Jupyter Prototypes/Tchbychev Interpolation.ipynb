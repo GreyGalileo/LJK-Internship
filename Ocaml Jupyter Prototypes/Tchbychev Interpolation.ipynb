{
 "cells": [
  {
   "cell_type": "code",
   "execution_count": 19,
   "id": "f56c4882",
   "metadata": {},
   "outputs": [
    {
     "data": {
      "text/plain": [
       "val tchbychev_polynomial : int -> float -> float = <fun>\n"
      ]
     },
     "execution_count": 19,
     "metadata": {},
     "output_type": "execute_result"
    },
    {
     "data": {
      "text/plain": [
       "val tchbychev_roots : int -> float list = <fun>\n"
      ]
     },
     "execution_count": 19,
     "metadata": {},
     "output_type": "execute_result"
    }
   ],
   "source": [
    "let rec tchbychev_polynomial (n:int) (x:float):float = \n",
    "  match n with\n",
    "  |0 -> 1.\n",
    "  |1 -> x\n",
    "  |n -> 2. *. x *. (tn (n-1) x) -. (tn (n-2) x);;\n",
    "  \n",
    "  \n",
    "let rec tchbychev_roots (n:int):float list =\n",
    "  List.init n (fun i -> Float.cos (float_of_int (2 * i + 1) /. float_of_int (2 * n) *. Float.pi));;"
   ]
  },
  {
   "cell_type": "code",
   "execution_count": 21,
   "id": "ad99b882",
   "metadata": {},
   "outputs": [
    {
     "data": {
      "text/plain": [
       "- : float list =\n",
       "[0.980785280403230431; 0.831469612302545236; 0.555570233019602289;\n",
       " 0.195090322016128331; -0.195090322016128193; -0.555570233019602;\n",
       " -0.831469612302545347; -0.980785280403230431]\n"
      ]
     },
     "execution_count": 21,
     "metadata": {},
     "output_type": "execute_result"
    }
   ],
   "source": [
    "tchbychev_roots 8;;"
   ]
  },
  {
   "cell_type": "code",
   "execution_count": 16,
   "id": "251aa33a",
   "metadata": {},
   "outputs": [
    {
     "data": {
      "text/plain": [
       "val f : int -> int = <fun>\n"
      ]
     },
     "execution_count": 16,
     "metadata": {},
     "output_type": "execute_result"
    },
    {
     "data": {
      "text/plain": [
       "- : float = 3.14159265358979312\n"
      ]
     },
     "execution_count": 16,
     "metadata": {},
     "output_type": "execute_result"
    },
    {
     "data": {
      "text/plain": [
       "- : int = 1\n"
      ]
     },
     "execution_count": 16,
     "metadata": {},
     "output_type": "execute_result"
    }
   ],
   "source": []
  },
  {
   "cell_type": "code",
   "execution_count": null,
   "id": "c5c4c1d7",
   "metadata": {},
   "outputs": [],
   "source": []
  }
 ],
 "metadata": {
  "kernelspec": {
   "display_name": "OCaml default",
   "language": "OCaml",
   "name": "ocaml-jupyter"
  },
  "language_info": {
   "codemirror_mode": "text/x-ocaml",
   "file_extension": ".ml",
   "mimetype": "text/x-ocaml",
   "name": "OCaml",
   "nbconverter_exporter": null,
   "pygments_lexer": "OCaml",
   "version": "4.13.1"
  }
 },
 "nbformat": 4,
 "nbformat_minor": 5
}
